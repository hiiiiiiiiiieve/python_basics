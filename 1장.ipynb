{
  "nbformat": 4,
  "nbformat_minor": 0,
  "metadata": {
    "colab": {
      "provenance": [],
      "authorship_tag": "ABX9TyOxokAjCqwQNA2V3G+SNPxN",
      "include_colab_link": true
    },
    "kernelspec": {
      "name": "python3",
      "display_name": "Python 3"
    },
    "language_info": {
      "name": "python"
    }
  },
  "cells": [
    {
      "cell_type": "markdown",
      "metadata": {
        "id": "view-in-github",
        "colab_type": "text"
      },
      "source": [
        "<a href=\"https://colab.research.google.com/github/hiiiiiiiiiieve/python_basics/blob/main/1%EC%9E%A5.ipynb\" target=\"_parent\"><img src=\"https://colab.research.google.com/assets/colab-badge.svg\" alt=\"Open In Colab\"/></a>"
      ]
    },
    {
      "cell_type": "markdown",
      "source": [
        "##**01-2 파이썬의 특징**"
      ],
      "metadata": {
        "id": "qUFXDD_DQdf9"
      }
    },
    {
      "cell_type": "markdown",
      "source": [
        "깃허브 연동"
      ],
      "metadata": {
        "id": "a5owOEoW2rxh"
      }
    },
    {
      "cell_type": "code",
      "execution_count": null,
      "metadata": {
        "colab": {
          "base_uri": "https://localhost:8080/"
        },
        "id": "Qmji3iaZ1V9l",
        "outputId": "655afb94-978a-48e5-8545-5a2ace233057"
      },
      "outputs": [
        {
          "output_type": "stream",
          "name": "stdout",
          "text": [
            "Drive already mounted at /content/drive; to attempt to forcibly remount, call drive.mount(\"/content/drive\", force_remount=True).\n"
          ]
        }
      ],
      "source": [
        "# from google.colab import drive\n",
        "# drive.mount('/content/drive')"
      ]
    },
    {
      "cell_type": "code",
      "source": [
        "# cd /content/drive/MyDrive/github/python_basics"
      ],
      "metadata": {
        "colab": {
          "base_uri": "https://localhost:8080/"
        },
        "id": "vcBLRVqd1WuC",
        "outputId": "9a3a1f9b-07bd-4c9e-aa59-01409112ed07"
      },
      "execution_count": null,
      "outputs": [
        {
          "output_type": "stream",
          "name": "stdout",
          "text": [
            "/content/drive/MyDrive/github/python_basics\n"
          ]
        }
      ]
    },
    {
      "cell_type": "code",
      "source": [
        "# !git config --global user.email 'hyejin961224@gmail.com'\n",
        "# !git config --global user.name 'hiiiiiiiiiieve'"
      ],
      "metadata": {
        "id": "6SRZz5751iCF"
      },
      "execution_count": null,
      "outputs": []
    },
    {
      "cell_type": "code",
      "source": [
        "# #원하는 폴더만 commit -> add (원하는 폴더명)\n",
        "# #모든 폴더 commit -> add --all\n",
        "\n",
        "# !git add 1장.ipynb"
      ],
      "metadata": {
        "id": "qcfUZckU1or1"
      },
      "execution_count": null,
      "outputs": []
    },
    {
      "cell_type": "code",
      "source": [
        "# # !git commit -m '원하는 아무 메시지'\n",
        "# # !git push\n",
        "\n",
        "# !git commit -m '1장 스터디'\n",
        "# !git push"
      ],
      "metadata": {
        "colab": {
          "base_uri": "https://localhost:8080/"
        },
        "id": "hZu7LfWx1svV",
        "outputId": "06fbe361-2926-4d3f-99bb-a55ebf93f619"
      },
      "execution_count": null,
      "outputs": [
        {
          "output_type": "stream",
          "name": "stdout",
          "text": [
            "On branch main\n",
            "Your branch is up to date with 'origin/main'.\n",
            "\n",
            "Untracked files:\n",
            "  (use \"git add <file>...\" to include in what will be committed)\n",
            "\t\u001b[31m\"1\\341\\204\\214\\341\\205\\241\\341\\206\\274.ipynb\"\u001b[m\n",
            "\t\u001b[31m\"2\\341\\204\\214\\341\\205\\241\\341\\206\\274.ipynb\"\u001b[m\n",
            "\t\u001b[31m\"\\341\\204\\200\\341\\205\\265\\341\\206\\272\\341\\204\\222\\341\\205\\245\\341\\204\\207\\341\\205\\263\\341\\204\\213\\341\\205\\247\\341\\206\\253\\341\\204\\203\\341\\205\\251\\341\\206\\274\\341\\204\\200\\341\\205\\265\\341\\204\\207\\341\\205\\251\\341\\206\\253\\341\\204\\220\\341\\205\\256\\341\\206\\257.ipynb\"\u001b[m\n",
            "\n",
            "nothing added to commit but untracked files present (use \"git add\" to track)\n",
            "Everything up-to-date\n"
          ]
        }
      ]
    },
    {
      "cell_type": "markdown",
      "source": [
        "1장 스터디"
      ],
      "metadata": {
        "id": "aTKWdvEd2tzi"
      }
    },
    {
      "cell_type": "code",
      "execution_count": null,
      "metadata": {
        "colab": {
          "base_uri": "https://localhost:8080/"
        },
        "id": "z25bGVZlQLcs",
        "outputId": "08213573-707f-4788-d184-c280a7a51897"
      },
      "outputs": [
        {
          "output_type": "stream",
          "name": "stdout",
          "text": [
            "4가 있습니다\n"
          ]
        }
      ],
      "source": [
        "if 4 in [1,2,3,4]:\n",
        "  print(\"4가 있습니다\")"
      ]
    },
    {
      "cell_type": "code",
      "source": [
        "#simple.py\n",
        "languages=['python','perl','c','java']\n",
        "\n",
        "for lang in languages:\n",
        "  if lang in ['python','perl']:\n",
        "    print(\"%6s need interpreter\" % lang)\n",
        "  elif lang in ['c','java']:\n",
        "    print(\"%6s need compiler\" % lang)\n",
        "  else:\n",
        "    print(\"should not reach here\")"
      ],
      "metadata": {
        "colab": {
          "base_uri": "https://localhost:8080/"
        },
        "id": "INmrwNpIQiza",
        "outputId": "e8261f33-e17f-4293-91df-624f37c2126d"
      },
      "execution_count": null,
      "outputs": [
        {
          "output_type": "stream",
          "name": "stdout",
          "text": [
            "python need interpreter\n",
            "  perl need interpreter\n",
            "     c need compiler\n",
            "  java need compiler\n"
          ]
        }
      ]
    }
  ]
}