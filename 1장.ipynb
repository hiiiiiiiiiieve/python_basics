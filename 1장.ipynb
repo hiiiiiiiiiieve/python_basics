{
  "nbformat": 4,
  "nbformat_minor": 0,
  "metadata": {
    "colab": {
      "provenance": [],
      "authorship_tag": "ABX9TyPu3ZFCaVssZmO8/QxGOgu1",
      "include_colab_link": true
    },
    "kernelspec": {
      "name": "python3",
      "display_name": "Python 3"
    },
    "language_info": {
      "name": "python"
    }
  },
  "cells": [
    {
      "cell_type": "markdown",
      "metadata": {
        "id": "view-in-github",
        "colab_type": "text"
      },
      "source": [
        "<a href=\"https://colab.research.google.com/github/hiiiiiiiiiieve/python_basics/blob/main/1%EC%9E%A5.ipynb\" target=\"_parent\"><img src=\"https://colab.research.google.com/assets/colab-badge.svg\" alt=\"Open In Colab\"/></a>"
      ]
    },
    {
      "cell_type": "markdown",
      "source": [
        "##**01-2 파이썬의 특징**"
      ],
      "metadata": {
        "id": "qUFXDD_DQdf9"
      }
    },
    {
      "cell_type": "markdown",
      "source": [
        "1장 스터디"
      ],
      "metadata": {
        "id": "aTKWdvEd2tzi"
      }
    },
    {
      "cell_type": "code",
      "execution_count": null,
      "metadata": {
        "colab": {
          "base_uri": "https://localhost:8080/"
        },
        "id": "z25bGVZlQLcs",
        "outputId": "08213573-707f-4788-d184-c280a7a51897"
      },
      "outputs": [
        {
          "output_type": "stream",
          "name": "stdout",
          "text": [
            "4가 있습니다\n"
          ]
        }
      ],
      "source": [
        "if 4 in [1,2,3,4]:\n",
        "  print(\"4가 있습니다\")"
      ]
    },
    {
      "cell_type": "code",
      "source": [
        "#simple.py\n",
        "languages=['python','perl','c','java']\n",
        "\n",
        "for lang in languages:\n",
        "  if lang in ['python','perl']:\n",
        "    print(\"%6s need interpreter\" % lang)\n",
        "  elif lang in ['c','java']:\n",
        "    print(\"%6s need compiler\" % lang)\n",
        "  else:\n",
        "    print(\"should not reach here\")"
      ],
      "metadata": {
        "colab": {
          "base_uri": "https://localhost:8080/"
        },
        "id": "INmrwNpIQiza",
        "outputId": "e8261f33-e17f-4293-91df-624f37c2126d"
      },
      "execution_count": null,
      "outputs": [
        {
          "output_type": "stream",
          "name": "stdout",
          "text": [
            "python need interpreter\n",
            "  perl need interpreter\n",
            "     c need compiler\n",
            "  java need compiler\n"
          ]
        }
      ]
    }
  ]
}